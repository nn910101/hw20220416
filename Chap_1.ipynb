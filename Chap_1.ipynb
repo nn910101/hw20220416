{
  "nbformat": 4,
  "nbformat_minor": 0,
  "metadata": {
    "colab": {
      "name": "Chap 1.ipynb",
      "provenance": []
    },
    "kernelspec": {
      "name": "python3",
      "display_name": "Python 3"
    },
    "language_info": {
      "name": "python"
    }
  },
  "cells": [
    {
      "cell_type": "markdown",
      "source": [
        "註解"
      ],
      "metadata": {
        "id": "BAR-KLTuSxot"
      }
    },
    {
      "cell_type": "code",
      "execution_count": null,
      "metadata": {
        "id": "neAv7HS7SoVS"
      },
      "outputs": [],
      "source": [
        "a=3  #單行註解\n",
        "b=5\n",
        "print(a+b)"
      ]
    },
    {
      "cell_type": "code",
      "source": [
        "'''\n",
        "多行註解\n",
        "多行註解\n",
        "多行註解\n",
        "'''\n",
        "a=3\n",
        "b=5\n",
        "print(a+b)"
      ],
      "metadata": {
        "id": "dlQQ7MHkS4ds"
      },
      "execution_count": null,
      "outputs": []
    },
    {
      "cell_type": "markdown",
      "source": [
        "運算式"
      ],
      "metadata": {
        "id": "vELLeg8bS2s8"
      }
    },
    {
      "cell_type": "code",
      "source": [
        "#變數交換\n",
        "x=1\n",
        "y=10\n",
        "\n",
        "z=x\n",
        "x=y\n",
        "y=z\n",
        "print(x)\n",
        "print(y)"
      ],
      "metadata": {
        "id": "MA8WO7pcS7Q6"
      },
      "execution_count": null,
      "outputs": []
    },
    {
      "cell_type": "code",
      "source": [
        "x=1\n",
        "y=10\n",
        "\n",
        "x=x+y\n",
        "y=x-y\n",
        "x=x-y\n",
        "print(x)\n",
        "print(y)"
      ],
      "metadata": {
        "id": "FavITegpS9BS"
      },
      "execution_count": null,
      "outputs": []
    },
    {
      "cell_type": "code",
      "source": [
        "#python版本的變數交換\n",
        "x=1\n",
        "y=10\n",
        "x,y = y,x\n",
        "print(x)\n",
        "print(y)"
      ],
      "metadata": {
        "id": "R3OrsnBXS-KO"
      },
      "execution_count": null,
      "outputs": []
    },
    {
      "cell_type": "markdown",
      "source": [
        "變數\n",
        "變數的平行設定"
      ],
      "metadata": {
        "id": "NRTy6FEGS_yD"
      }
    },
    {
      "cell_type": "code",
      "source": [
        "x, y, z= 3, 4, 5\n",
        "print(x)\n",
        "print(y)\n",
        "print(z)"
      ],
      "metadata": {
        "id": "8lTDXQ2ZTBQE"
      },
      "execution_count": null,
      "outputs": []
    },
    {
      "cell_type": "code",
      "source": [
        "x, y, z = 3, 4, 5\n",
        "x += 1 #x=x+1\n",
        "y *= 2 #y=y*2\n",
        "z **= 3 #z^3\n",
        "print(x, y, z)"
      ],
      "metadata": {
        "id": "7RbLy13wTDFs"
      },
      "execution_count": null,
      "outputs": []
    },
    {
      "cell_type": "markdown",
      "source": [
        "變數的應用\n",
        "Q：邊長為3, 4, 5的三角形，其面積大小為何?\n",
        "海龍公式：\n",
        "s=(a+b+c)/2\n",
        "sqrt(s(s-a)(s-b)(s-c))"
      ],
      "metadata": {
        "id": "N7GfmdxITHn1"
      }
    },
    {
      "cell_type": "code",
      "source": [
        "import math\n",
        "a,b,c=3,4,5\n",
        "s=(a+b+c)/2\n",
        "d=math.sqrt(s*(s-a)*(s-b)*(s-c))\n",
        "print(d)"
      ],
      "metadata": {
        "id": "_9MYm-N8TJEo"
      },
      "execution_count": null,
      "outputs": []
    },
    {
      "cell_type": "markdown",
      "source": [
        "Q：半徑為10的圓形，其面積大小為何?"
      ],
      "metadata": {
        "id": "wT8KdAn4TKr_"
      }
    },
    {
      "cell_type": "code",
      "source": [
        "import math\n",
        "r=10\n",
        "print(r*r*math.pi)"
      ],
      "metadata": {
        "id": "6AMBU7poTMAw"
      },
      "execution_count": null,
      "outputs": []
    },
    {
      "cell_type": "markdown",
      "source": [
        "資料型別\n",
        "python屬於動態類型變數，使用前不需要宣告資料型態"
      ],
      "metadata": {
        "id": "tA2NHRJiTNhU"
      }
    },
    {
      "cell_type": "code",
      "source": [
        "x=254\n",
        "print(type(x))\n",
        "y=254.0\n",
        "print(type(y))\n",
        "z='write'\n",
        "print(type(z))\n",
        "print(type(x==y))"
      ],
      "metadata": {
        "id": "CHuTsvvcTOwG"
      },
      "execution_count": null,
      "outputs": []
    },
    {
      "cell_type": "markdown",
      "source": [
        "算術符號"
      ],
      "metadata": {
        "id": "osb_JdyeTQ24"
      }
    },
    {
      "cell_type": "code",
      "source": [
        "x=10\n",
        "y=3\n",
        "print(x/y)  #除法\n",
        "print(x//y) #求商\n",
        "print(x%y)  #求餘數"
      ],
      "metadata": {
        "id": "almA2Q5oTSG2"
      },
      "execution_count": null,
      "outputs": []
    },
    {
      "cell_type": "markdown",
      "source": [
        "注意數字的正確性"
      ],
      "metadata": {
        "id": "e4ia5_aCTSse"
      }
    },
    {
      "cell_type": "code",
      "source": [
        "x=3.141592627\n",
        "print(x-3.14) #比正確值略小"
      ],
      "metadata": {
        "id": "Gd3H-FV6TU_c"
      },
      "execution_count": null,
      "outputs": []
    },
    {
      "cell_type": "markdown",
      "source": [
        "算術符號的順序\n",
        "()括號 > *次方 > / 乘除 > +-加減"
      ],
      "metadata": {
        "id": "ztWVq3b2TWaZ"
      }
    },
    {
      "cell_type": "code",
      "source": [
        "x=(5*(1+2)**2-3+4/2)\n",
        "print(x)"
      ],
      "metadata": {
        "id": "7Mf80St2TXty"
      },
      "execution_count": null,
      "outputs": []
    },
    {
      "cell_type": "markdown",
      "source": [
        "關係比較"
      ],
      "metadata": {
        "id": "iDSIek8MTZAs"
      }
    },
    {
      "cell_type": "code",
      "source": [
        "print(10==10)\n",
        "x, y = 10, 20\n",
        "print(x==y)  # == 關係比較\n",
        "x=y          # =  指派值\n",
        "print(x)\n"
      ],
      "metadata": {
        "id": "xOvsP8VaTbAi"
      },
      "execution_count": null,
      "outputs": []
    },
    {
      "cell_type": "markdown",
      "source": [
        "關係運算，以閏年為例"
      ],
      "metadata": {
        "id": "zDDPjhhXTccm"
      }
    },
    {
      "cell_type": "code",
      "source": [
        "y=2010\n",
        "print(y%4==0 and y%100!=0 or y%400==0)\n",
        "y=2012\n",
        "print(y%4==0 and y%100!=0 or y%400==0)\n",
        "y=1900\n",
        "print(y%4==0 and y%100!=0 or y%400==0)\n",
        "y=2000\n",
        "print(y%4==0 and y%100!=0 or y%400==0)"
      ],
      "metadata": {
        "id": "gojnX24KTdvA"
      },
      "execution_count": null,
      "outputs": []
    },
    {
      "cell_type": "markdown",
      "source": [
        "型態轉換"
      ],
      "metadata": {
        "id": "o92I5up0TfeS"
      }
    },
    {
      "cell_type": "code",
      "source": [
        "#小心不同型態之間所得到的結果跟想像不同\n",
        "x=\"must\"\n",
        "print(10*x)\n",
        "print(\"10\"+x)\n",
        "print(10,x)"
      ],
      "metadata": {
        "id": "QCNJ-pJfThHg"
      },
      "execution_count": null,
      "outputs": []
    },
    {
      "cell_type": "code",
      "source": [
        "x=12\n",
        "print(type(x))\n",
        "y=float(x)+0.5 #強制型別轉換\n",
        "print(type(y))\n",
        "print(int(\"123\"))\n",
        "print(int(123.33))\n",
        "print(int(float(\"123.33\")))"
      ],
      "metadata": {
        "id": "ZXjsw4IKVpn1"
      },
      "execution_count": null,
      "outputs": []
    },
    {
      "cell_type": "code",
      "source": [
        "#字串的型別轉換\n",
        "x=10*3.25  #x=32.5\n",
        "y=200*200  #y=40000\n",
        "s=\"The value of x is \" + str(x) + ' and y is ' + str(y)\n",
        "print(s)\n",
        "print(\"The value of x is\", x,\"and y is\", y)\n",
        "print(\"The value of x is {} and y is {}\".format(x,y))\n"
      ],
      "metadata": {
        "id": "sQozsZBnVtVJ"
      },
      "execution_count": null,
      "outputs": []
    },
    {
      "cell_type": "markdown",
      "source": [
        "非內建模組"
      ],
      "metadata": {
        "id": "86dEfasiVpRp"
      }
    },
    {
      "cell_type": "code",
      "source": [
        "import math\n",
        "print(math.pi)\n",
        "print(math.pow(2,3))\n",
        "print(8.3*10.58*math.sin(37.0/180*math.pi)/2)\n",
        "print(math.sqrt(25))"
      ],
      "metadata": {
        "id": "TmCjkRnNVvZX"
      },
      "execution_count": null,
      "outputs": []
    },
    {
      "cell_type": "markdown",
      "source": [
        "範例：算圓面積"
      ],
      "metadata": {
        "id": "bXa3-ZXMVwcU"
      }
    },
    {
      "cell_type": "code",
      "source": [
        "import math\n",
        "r=input(\"請輸入圓的半徑：\")\n",
        "area=float(r)*float(r)*math.pi\n",
        "print(\"圓面積為：\",area)\n"
      ],
      "metadata": {
        "id": "oCfabSlaVx0Z"
      },
      "execution_count": null,
      "outputs": []
    },
    {
      "cell_type": "markdown",
      "source": [
        "應用題：算矩形面積"
      ],
      "metadata": {
        "id": "96uiUrOmVzp4"
      }
    },
    {
      "cell_type": "code",
      "source": [
        "r=input(\"請輸入矩形的長：\")\n",
        "w=input(\"請輸入矩形的寬：\")\n",
        "area=float(r)*float(w)\n",
        "print(\"矩形面積為：\",area)"
      ],
      "metadata": {
        "id": "cpuGRnyBV0rX"
      },
      "execution_count": null,
      "outputs": []
    },
    {
      "cell_type": "markdown",
      "source": [
        "eval()函數\n",
        "eval會把str型態的表示式，轉換成數學式進行計算"
      ],
      "metadata": {
        "id": "QJatpjrpV2xK"
      }
    },
    {
      "cell_type": "code",
      "source": [
        "print(eval(\"3+5\"))\n",
        "id=input(\"請輸入產品編號：\")\n",
        "print(type(id))\n",
        "print(type(eval(id)))"
      ],
      "metadata": {
        "id": "PVA2KE7jV2PM"
      },
      "execution_count": null,
      "outputs": []
    },
    {
      "cell_type": "markdown",
      "source": [
        "print的三種方式\n",
        "透過,區隔要列印的變數 eg: print(\"This\", \"is\", \"a\", \"book\")\n",
        "利用字串的str.format() (新式)\n",
        "%格式化输出字符串 (舊式)"
      ],
      "metadata": {
        "id": "SKIQPW3XV6Nz"
      }
    },
    {
      "cell_type": "code",
      "source": [
        "print(\"This\", \"is\", \"a\", \"book\")\n",
        "print(\"This\"+\"is\"+\"a\"+\"book\")"
      ],
      "metadata": {
        "id": "kGB1Hx4YV6tE"
      },
      "execution_count": null,
      "outputs": []
    },
    {
      "cell_type": "code",
      "source": [
        "print(\"This {} a book\".format(\"is\"))\n",
        "x=123456.7890\n",
        "print(\"{:.2f}\".format(x))  #小數點.後兩位\n",
        "print(\"{:,.2f}\".format(x)) #,小數點前用,分開"
      ],
      "metadata": {
        "id": "KkQniCKoV9Bv"
      },
      "execution_count": null,
      "outputs": []
    },
    {
      "cell_type": "markdown",
      "source": [
        "C語言類似的 % 格式\n",
        "%s (字串) %d (整數) %f (浮點數)\n",
        "%s(字串): %10s (10格靠右對齊，不足的左方補空白), %-10s\n",
        "%f(浮點數): %7.3f (總共7個浮點數位數，含一個小數點，以及三個小數點後數字)"
      ],
      "metadata": {
        "id": "WGdqbNAeV-2n"
      }
    },
    {
      "cell_type": "code",
      "source": [
        "print(\"This %-10s a %10s\" % (\"is\", \"book\")) #字串占10格，靠右2格\n",
        "print(\"%7.3f\" % 6789.4333)"
      ],
      "metadata": {
        "id": "5DoUxhfZV_N2"
      },
      "execution_count": null,
      "outputs": []
    }
  ]
}