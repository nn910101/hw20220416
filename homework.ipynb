{
  "nbformat": 4,
  "nbformat_minor": 0,
  "metadata": {
    "colab": {
      "name": "homework.ipynb",
      "provenance": [],
      "collapsed_sections": []
    },
    "kernelspec": {
      "name": "python3",
      "display_name": "Python 3"
    },
    "language_info": {
      "name": "python"
    }
  },
  "cells": [
    {
      "cell_type": "markdown",
      "source": [
        "1\n",
        "(list的應用)"
      ],
      "metadata": {
        "id": "kzs1JeO7qGGX"
      }
    },
    {
      "cell_type": "code",
      "source": [
        "list_1=['a', 'b', 'c']\n",
        "list_2=['d', 'e', 'f']\n",
        "list_3=list_1 + list_2\n",
        "list_4= list_3 * 2\n",
        "print(list_4)"
      ],
      "metadata": {
        "colab": {
          "base_uri": "https://localhost:8080/"
        },
        "id": "QqG_WgNHqJF_",
        "outputId": "6d4d74aa-6bc5-41b6-da8f-406a1b640a61"
      },
      "execution_count": 1,
      "outputs": [
        {
          "output_type": "stream",
          "name": "stdout",
          "text": [
            "['a', 'b', 'c', 'd', 'e', 'f', 'a', 'b', 'c', 'd', 'e', 'f']\n"
          ]
        }
      ]
    },
    {
      "cell_type": "markdown",
      "source": [
        "2\n",
        "(變數型別的計算)\n",
        "eval函式的輸入是\"字串str\"型態的數學式，回傳則是數學式計算的結果"
      ],
      "metadata": {
        "id": "e6tEYHg1qf07"
      }
    },
    {
      "cell_type": "code",
      "source": [
        "car_dist= float(eval(input(\"請輸入以公里為單位的行駛距離：\")))\n",
        "run_hour= int(eval(input(\"請輸入經過的小時數：\")))\n",
        "run_min= int(eval(input(\"請輸入經過的分鐘：\")))\n",
        "run_time= run_hour + run_min/60\n",
        "car_speed= car_dist / run_time\n",
        "print(\"汽車的時速是：\", car_speed, \"km/hr\")"
      ],
      "metadata": {
        "id": "yD6SPaxGqjG1"
      },
      "execution_count": null,
      "outputs": []
    },
    {
      "cell_type": "markdown",
      "source": [
        "3\n",
        "(變數型別與運算元的應用)\n",
        "/ : 除法\n",
        "//: 除法取整數\n",
        "**: 次方"
      ],
      "metadata": {
        "id": "A3_o1SjUqlCG"
      }
    },
    {
      "cell_type": "markdown",
      "source": [
        "4\n",
        "(變數型別)"
      ],
      "metadata": {
        "id": "4YgH-iAKqokS"
      }
    },
    {
      "cell_type": "code",
      "source": [
        "age=12\n",
        "minor=False\n",
        "name=\"David\"\n",
        "weight=64.5\n",
        "zip = \"545\"\n",
        "print(type(age), type(minor), type(name), type(weight), type(zip))"
      ],
      "metadata": {
        "id": "4GAW0U8Oqqxn"
      },
      "execution_count": null,
      "outputs": []
    },
    {
      "cell_type": "markdown",
      "source": [
        "5\n",
        "(變數型別)"
      ],
      "metadata": {
        "id": "R77He6bgqsrD"
      }
    },
    {
      "cell_type": "code",
      "source": [
        "TC=input(\"請輸入攝氏溫度：\")\n",
        "TF=eval(TC) * (9/5) + 32\n",
        "message = \"攝氏\" + TC + \"度等於華氏\" + str(TF) + \"度\"\n",
        "print(message)\n",
        "print(type(TC), type(TF), type(message))"
      ],
      "metadata": {
        "id": "BKZBBS3uquqs"
      },
      "execution_count": null,
      "outputs": []
    },
    {
      "cell_type": "markdown",
      "source": [
        "6\n",
        "(變數運算型別)"
      ],
      "metadata": {
        "id": "dgXR0s2Fqwwe"
      }
    },
    {
      "cell_type": "code",
      "source": [
        "x1=\"0\"\n",
        "y1=4\n",
        "a=x1*y1\n",
        "print(a, type(a))\n",
        "x2=8\n",
        "y2=4\n",
        "b=x2/y2\n",
        "print(b, type(b))\n",
        "x3=10.5\n",
        "y3=1\n",
        "c=x3/y3\n",
        "print(c, type(c))"
      ],
      "metadata": {
        "id": "ROXdjMgMqyur"
      },
      "execution_count": null,
      "outputs": []
    },
    {
      "cell_type": "markdown",
      "source": [
        "7\n",
        "(變數型別)"
      ],
      "metadata": {
        "id": "Oy9rdsSuq0Um"
      }
    },
    {
      "cell_type": "code",
      "source": [
        "print(type(1.0), type(+1E-10), type(\"False\"), type(True))"
      ],
      "metadata": {
        "id": "_loKDgYlq2Cg"
      },
      "execution_count": null,
      "outputs": []
    },
    {
      "cell_type": "markdown",
      "source": [
        "8\n",
        "(dict應用)\n",
        "(input輸入型別)"
      ],
      "metadata": {
        "id": "msdZORzaq3eO"
      }
    },
    {
      "cell_type": "code",
      "source": [
        "products = {1: '鉛筆', 2: '橡皮擦'}\n",
        "id=int(input('輸入產品編號：')) #題目少了int()))\n",
        "if not id in products:\n",
        "  print('該產品並不存在')\n",
        "else:\n",
        "  print(\"產品名稱為：\"+ products[id])"
      ],
      "metadata": {
        "id": "zi9Qi2N7q49k"
      },
      "execution_count": null,
      "outputs": []
    },
    {
      "cell_type": "markdown",
      "source": [
        "9\n",
        "(變數型別)"
      ],
      "metadata": {
        "id": "gsqX_Vdpq6ue"
      }
    },
    {
      "cell_type": "code",
      "source": [
        "print(type(5))\n",
        "print(type(8.0))\n",
        "print(type(\"True\"))\n",
        "print(type(False))"
      ],
      "metadata": {
        "id": "WdRq8b0-q8xC"
      },
      "execution_count": null,
      "outputs": []
    },
    {
      "cell_type": "markdown",
      "source": [
        "10\n",
        "(型別轉換應用)"
      ],
      "metadata": {
        "id": "m-wxJtzTq-ni"
      }
    },
    {
      "cell_type": "code",
      "source": [
        "#total = int(input(\"請輸入總數?\")) #原來程式會有錯誤\n",
        "total = eval(input(\"請輸入總數?\"))\n",
        "total = int(total)\n",
        "print(total, type(total))"
      ],
      "metadata": {
        "id": "EEYKKOqArBAy"
      },
      "execution_count": null,
      "outputs": []
    },
    {
      "cell_type": "markdown",
      "source": [
        "11"
      ],
      "metadata": {
        "id": "XD2l_K3OrAFW"
      }
    },
    {
      "cell_type": "code",
      "source": [
        "def reverse_str(oStr):\n",
        "  reStr=\"\"\n",
        "  for index in range(len(oStr)-1, -1, -1): #(1)\n",
        "    reStr += oStr[index] #(2)\n",
        "  return reStr\n",
        "print(reverse_str(\"Madam I'm Adam\"))"
      ],
      "metadata": {
        "id": "PERkCMzmrFN4"
      },
      "execution_count": null,
      "outputs": []
    },
    {
      "cell_type": "markdown",
      "source": [
        "12\n",
        "(型別轉換)"
      ],
      "metadata": {
        "id": "oN4KG0-5rG6b"
      }
    },
    {
      "cell_type": "code",
      "source": [
        "time_start = input(\"早上上班時間是幾點?\")\n",
        "time_end = input(\"下午下班時間是幾點?\")\n",
        "print(\"本日上班時間：\"+ str(int(time_end)-int(time_start))+\"小時\")"
      ],
      "metadata": {
        "id": "stTcF2mprIiz"
      },
      "execution_count": null,
      "outputs": []
    },
    {
      "cell_type": "markdown",
      "source": [
        "13\n",
        "(字串取值)"
      ],
      "metadata": {
        "id": "fyEPIHyqrKDE"
      }
    },
    {
      "cell_type": "code",
      "source": [
        "astr=\"abcdefghijklmnopqrstuvwxyz\"\n",
        "print(astr[5:20])\n",
        "print(astr[5:20:3])\n",
        "print(astr[20:5:-3])\n",
        "print(astr[::-3])\n",
        "print(astr[3:15:-1])"
      ],
      "metadata": {
        "id": "hEmBKiIerLUT"
      },
      "execution_count": null,
      "outputs": []
    },
    {
      "cell_type": "markdown",
      "source": [
        "14\n",
        "(list取值)"
      ],
      "metadata": {
        "id": "bmbcHVaarM3K"
      }
    },
    {
      "cell_type": "code",
      "source": [
        "members=list(range(1,51))\n",
        "print(members)\n",
        "#print(member[-5:0])無法執行 #A\n",
        "print(members[0:-5]) #B\n",
        "#members[1:-5 無法執行 #C\n",
        "print(members[:-5]) #D\n",
        "print(members[1:5]) #E"
      ],
      "metadata": {
        "id": "ViMY_shlrOMk"
      },
      "execution_count": null,
      "outputs": []
    },
    {
      "cell_type": "markdown",
      "source": [
        "15\n",
        "(list取值)"
      ],
      "metadata": {
        "id": "iG54g1h4rPrN"
      }
    },
    {
      "cell_type": "code",
      "source": [
        "#本題要取出星期2,星期4,星期6\n",
        "weeks=[1,2,3,4,5,6,7]\n",
        "print(weeks[2:2])\n",
        "print(weeks[::2])\n",
        "print(weeks[1::2])\n",
        "print(weeks[1:2])"
      ],
      "metadata": {
        "id": "3sZ3zfPFrRCg"
      },
      "execution_count": null,
      "outputs": []
    },
    {
      "cell_type": "markdown",
      "source": [
        "16\n",
        "(算式表示)"
      ],
      "metadata": {
        "id": "qY_YvbWNrSTh"
      }
    },
    {
      "cell_type": "code",
      "source": [
        "x=eval(input(\"輸入一個數字：\"))\n",
        "y=(x+7)**2\n",
        "print(y)"
      ],
      "metadata": {
        "id": "5O_TAIpKrTw9"
      },
      "execution_count": null,
      "outputs": []
    },
    {
      "cell_type": "markdown",
      "source": [
        "17\n",
        "(not的應用)"
      ],
      "metadata": {
        "id": "v_mLM1WurVXH"
      }
    },
    {
      "cell_type": "code",
      "source": [
        "def get_discount(kid, girl):\n",
        "  discount = 0.2\n",
        "  if not (kid or girl):\n",
        "    discount=0\n",
        "  return discount\n",
        "\n",
        "print(\"discount=\", get_discount(True,False))"
      ],
      "metadata": {
        "id": "jCzi1lQnrWla"
      },
      "execution_count": null,
      "outputs": []
    },
    {
      "cell_type": "markdown",
      "source": [
        "18\n",
        "(Bool的應用)"
      ],
      "metadata": {
        "id": "_DYk79-ErYPR"
      }
    },
    {
      "cell_type": "code",
      "source": [
        "print(0 or 2)\n",
        "print(bool()) #轉換bool型態，沒參數回傳False\n",
        "print(None == None)\n",
        "print(-2<0<2)"
      ],
      "metadata": {
        "id": "KvDoaxSjrZrk"
      },
      "execution_count": null,
      "outputs": []
    },
    {
      "cell_type": "markdown",
      "source": [
        "19\n",
        "(運算子優先順序)"
      ],
      "metadata": {
        "id": "iz8ZVEQlrbHg"
      }
    },
    {
      "cell_type": "code",
      "source": [
        "print((5*(1+2)**2-3+4/2))"
      ],
      "metadata": {
        "id": "HJ2BZwazrcgC"
      },
      "execution_count": null,
      "outputs": []
    },
    {
      "cell_type": "markdown",
      "source": [
        "20\n",
        "(變數應用)"
      ],
      "metadata": {
        "id": "BgxGXf2freiJ"
      }
    },
    {
      "cell_type": "code",
      "source": [
        "a='Apple'\n",
        "print(a)\n",
        "b='Banana'\n",
        "a+=b\n",
        "b=a\n",
        "print(a)\n",
        "print(b)"
      ],
      "metadata": {
        "id": "mnvZS0_crf3-"
      },
      "execution_count": null,
      "outputs": []
    },
    {
      "cell_type": "markdown",
      "source": [
        "21\n",
        "(運算子優先順序)"
      ],
      "metadata": {
        "id": "uXgYrNHDrhf5"
      }
    },
    {
      "cell_type": "code",
      "source": [
        "def calc(a,b,c,d):\n",
        "  value=(a-b)/c+d\n",
        "  return value\n",
        "print(calc(1,1,1,2))"
      ],
      "metadata": {
        "id": "Ni0PY1ptri71"
      },
      "execution_count": null,
      "outputs": []
    },
    {
      "cell_type": "markdown",
      "source": [
        "22\n",
        "(運算子優先順序) () > * > +- > / > + - > or"
      ],
      "metadata": {
        "id": "fipthw71rkWO"
      }
    },
    {
      "cell_type": "markdown",
      "source": [
        "23\n",
        "(for迴圈與if判斷式)"
      ],
      "metadata": {
        "id": "TV2NHOlArntp"
      }
    },
    {
      "cell_type": "code",
      "source": [
        "def count_word(word, words_list):\n",
        "  count=0\n",
        "  for keyword in words_list:\n",
        "    if keyword == word:\n",
        "      count+=1\n",
        "  return count\n",
        "words_list=['i','am','a','boy','you','are','a','girl']\n",
        "word=input(\"你想要查詢哪個單字的數量?\")\n",
        "wtotal=count_word(word, words_list)\n",
        "print(\"在文章中一共有':\", wtotal,\"個單字\", word)"
      ],
      "metadata": {
        "id": "YcxNZD99rmBf"
      },
      "execution_count": null,
      "outputs": []
    }
  ]
}