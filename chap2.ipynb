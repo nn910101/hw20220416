{
  "nbformat": 4,
  "nbformat_minor": 0,
  "metadata": {
    "colab": {
      "name": "chap2.ipynb",
      "provenance": [],
      "collapsed_sections": []
    },
    "kernelspec": {
      "name": "python3",
      "display_name": "Python 3"
    },
    "language_info": {
      "name": "python"
    }
  },
  "cells": [
    {
      "cell_type": "markdown",
      "source": [
        "if else , elifa=3\n"
      ],
      "metadata": {
        "id": "xWfIBmvVRyjv"
      }
    },
    {
      "cell_type": "code",
      "execution_count": null,
      "metadata": {
        "id": "SXu3ZP4HRvpo"
      },
      "outputs": [],
      "source": [
        "a=3\n",
        "b=4\n",
        "if a <= b:\n",
        "    print(\"b是比較大的數字\")\n",
        "else:\n",
        "    print(\"a是比較大的數字\")"
      ]
    },
    {
      "cell_type": "markdown",
      "source": [
        "成績評鑑"
      ],
      "metadata": {
        "id": "Y9Veo14aR2vu"
      }
    },
    {
      "cell_type": "code",
      "source": [
        "grade=87\n",
        "print(\"成績評鑑：\")\n",
        "if grade >= 90:\n",
        "    print(\"優等\")\n",
        "elif grade >=80:\n",
        "    print(\"甲等\")\n",
        "elif grade >=70:\n",
        "    print(\"乙等\")\n",
        "elif grade >=60:\n",
        "    print(\"丙等\")\n",
        "else:\n",
        "    print(\"不及格\")"
      ],
      "metadata": {
        "id": "luFG-n6XR4Un"
      },
      "execution_count": null,
      "outputs": []
    },
    {
      "cell_type": "markdown",
      "source": [
        "for 迴圈"
      ],
      "metadata": {
        "id": "yEkRZ5H_R5zY"
      }
    },
    {
      "cell_type": "code",
      "source": [
        "#1+2+3...+10總和\n",
        "sum = 0\n",
        "for count in range(1, 11, 1): #從1開始，間隔1, 不包含11\n",
        "    sum += count\n",
        "print(\"1+2+3+...+10 =\", sum)"
      ],
      "metadata": {
        "id": "yQj13mrcR7Ls"
      },
      "execution_count": null,
      "outputs": []
    },
    {
      "cell_type": "code",
      "source": [
        "#range另外一種寫法\n",
        "#1+2+3...+10總和\n",
        "sum = 0\n",
        "for count in range(11): #1-10, 不包含11\n",
        "    sum += count\n",
        "print(\"1+2+3+...+10 =\", sum)"
      ],
      "metadata": {
        "id": "HCdgQsvpR9K2"
      },
      "execution_count": null,
      "outputs": []
    },
    {
      "cell_type": "code",
      "source": [
        "mylist=\"for statement\"\n",
        "for c in mylist:\n",
        "    print(c)\n",
        "print(\"end list\")"
      ],
      "metadata": {
        "id": "_EQi3cr5R-fK"
      },
      "execution_count": null,
      "outputs": []
    },
    {
      "cell_type": "code",
      "source": [
        "for pl in [\"Java\", \"C#\", \"Python\"]:\n",
        "    print(pl)"
      ],
      "metadata": {
        "id": "mGdEwk5dR_3u"
      },
      "execution_count": null,
      "outputs": []
    },
    {
      "cell_type": "markdown",
      "source": [
        "雞兔同籠，若共有35個頭，94隻腳，請問有幾隻雞?幾隻兔?"
      ],
      "metadata": {
        "id": "pKqlgjCCSBVY"
      }
    },
    {
      "cell_type": "code",
      "source": [
        "for chicken in range(0,36):\n",
        "    rabbit=35-chicken\n",
        "    if (2*chicken+4*rabbit) == 94:\n",
        "        print(\"雞有\",chicken,\"隻,兔子有\",rabbit,\"隻\")\n",
        "        break\n",
        "else:\n",
        "    print(\"無解\")"
      ],
      "metadata": {
        "id": "y8Te9tj2SC7U"
      },
      "execution_count": null,
      "outputs": []
    },
    {
      "cell_type": "markdown",
      "source": [
        "while迴圈"
      ],
      "metadata": {
        "id": "3V0zc8joSEOq"
      }
    },
    {
      "cell_type": "code",
      "source": [
        "sum=0\n",
        "count=1\n",
        "while count <=10:\n",
        "    sum += count\n",
        "    count += 1\n",
        "print(\"1+2+3+...+10=\",sum)"
      ],
      "metadata": {
        "id": "e9h7ZIlASFtC"
      },
      "execution_count": null,
      "outputs": []
    },
    {
      "cell_type": "markdown",
      "source": [
        "本金10000元，定存年利率0.6%，請問多久銀行存款會翻倍"
      ],
      "metadata": {
        "id": "_cTEgYIcSHZM"
      }
    },
    {
      "cell_type": "code",
      "source": [
        "x=10000\n",
        "years=0\n",
        "while x <= 20000:\n",
        "    x=x*1.006\n",
        "    years += 1\n",
        "print(str(years), \"年以後，存款加倍，為\", int(x),\"元\")"
      ],
      "metadata": {
        "id": "cGxDLaVgSJI-"
      },
      "execution_count": null,
      "outputs": []
    },
    {
      "cell_type": "markdown",
      "source": [
        "帳號密碼判斷"
      ],
      "metadata": {
        "id": "2vbxCY9YSLE3"
      }
    },
    {
      "cell_type": "code",
      "source": [
        "id=\"tony\"\n",
        "pwd=\"1234\"\n",
        "while True:\n",
        "    x=input(\"請輸入帳號：\")\n",
        "    y=input(\"請輸入密碼：\")\n",
        "    if (x==id and y==pwd):\n",
        "        print(\"歡迎登入\")\n",
        "        break\n",
        "    else:\n",
        "        print(\"帳號或密碼輸入錯誤\")"
      ],
      "metadata": {
        "id": "xYpzSPIeSMXq"
      },
      "execution_count": null,
      "outputs": []
    },
    {
      "cell_type": "markdown",
      "source": [
        "亂數"
      ],
      "metadata": {
        "id": "iRv3eub7SOcI"
      }
    },
    {
      "cell_type": "code",
      "source": [
        "import random\n",
        "for i in range(0,10):\n",
        "    print(random.randint(1,9))"
      ],
      "metadata": {
        "id": "NyRkIHpSSPzP"
      },
      "execution_count": null,
      "outputs": []
    },
    {
      "cell_type": "markdown",
      "source": [
        "猜數字"
      ],
      "metadata": {
        "id": "XIlxVweVSRSk"
      }
    },
    {
      "cell_type": "code",
      "source": [
        "import random\n",
        "number=random.randint(1,20)\n",
        "while True:\n",
        "    guess=int(input(\"請輸入1~20之間的數字-->\"))\n",
        "    if guess == number:\n",
        "        print(\"你猜對了，數字是\", number)\n",
        "        break\n",
        "    else:\n",
        "        print(\"你猜錯了\")"
      ],
      "metadata": {
        "id": "_MzktQxfSTW0"
      },
      "execution_count": null,
      "outputs": []
    }
  ]
}